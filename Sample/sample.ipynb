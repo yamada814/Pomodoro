{
 "cells": [
  {
   "cell_type": "code",
   "execution_count": 1,
   "metadata": {},
   "outputs": [
    {
     "name": "stdout",
     "output_type": "stream",
     "text": [
      "{0: 'Setting', 1: 'Work', 2: 'Break'}\n"
     ]
    }
   ],
   "source": [
    "page_state_list = [\"Setting\",\"Work\",\"Break\"]\n",
    "dic = {n:page_state_list[n] for n in range(len(page_state_list))}\n",
    "print(dic)"
   ]
  },
  {
   "cell_type": "code",
   "execution_count": 1,
   "metadata": {},
   "outputs": [
    {
     "name": "stdout",
     "output_type": "stream",
     "text": [
      "0 minute\n",
      "1 second\n",
      "2 repeat\n"
     ]
    }
   ],
   "source": [
    "input_var = (\"minute\",\"second\",\"repeat\")\n",
    "for index,var in enumerate(input_var):\n",
    "    print(index,var)"
   ]
  },
  {
   "cell_type": "code",
   "execution_count": null,
   "metadata": {},
   "outputs": [],
   "source": []
  }
 ],
 "metadata": {
  "kernelspec": {
   "display_name": "base",
   "language": "python",
   "name": "python3"
  },
  "language_info": {
   "codemirror_mode": {
    "name": "ipython",
    "version": 3
   },
   "file_extension": ".py",
   "mimetype": "text/x-python",
   "name": "python",
   "nbconvert_exporter": "python",
   "pygments_lexer": "ipython3",
   "version": "3.12.7"
  }
 },
 "nbformat": 4,
 "nbformat_minor": 2
}
